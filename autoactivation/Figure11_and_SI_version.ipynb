{
 "cells": [
  {
   "cell_type": "code",
   "execution_count": 1,
   "metadata": {
    "colab": {
     "base_uri": "https://localhost:8080/"
    },
    "id": "_J99JJCPqIDx",
    "outputId": "4d639438-a060-48f2-d6f5-720b52e077e5"
   },
   "outputs": [],
   "source": [
    "import numpy as np\n",
    "import numpy.random as rng\n",
    "import matplotlib.pyplot as plt\n",
    "from scipy.signal import find_peaks\n",
    "import math\n",
    "from matplotlib import cm\n",
    "from matplotlib.colors import Normalize"
   ]
  },
  {
   "cell_type": "code",
   "execution_count": 2,
   "metadata": {},
   "outputs": [],
   "source": [
    "# fixed parameters for inducer function\n",
    "delE=4.5\n",
    "Ka=1.4*10**(-4)\n",
    "Ki=5.3*10**(-7)\n",
    "K_c=Ka/Ki\n",
    "\n",
    "# Define fixed parameters\n",
    "fixed_r0 = 0.1\n",
    "fixed_r1 = 1\n",
    "fixed_r2 = 20\n",
    "fixed_w = 7\n",
    "\n",
    "#plotting parameters\n",
    "size_legend_axis = 15\n",
    "size_label_axis_y = 30\n",
    "size_label_axis_x = 20\n",
    "\n",
    "# helper functions\n",
    "def pAct(c, Ka=Ka, Ki=Ki, delE=delE):\n",
    "    \"\"\" probability of repressor/activator being active\n",
    "\n",
    "    Parameters:\n",
    "        - c: inducer concentration\n",
    "        - K_c: dissociation constant in active state / dissociation constant in inactive state\n",
    "        - delE: energy difference between inactive and active state\n",
    "    \"\"\"\n",
    "    p= (1 + c)**2 / ((1 + c)**2 + np.exp(-delE)*(1 + c*K_c)**2)\n",
    "    return p"
   ]
  },
  {
   "cell_type": "code",
   "execution_count": 3,
   "metadata": {
    "id": "3fEJhxHFY0N5"
   },
   "outputs": [],
   "source": [
    "\n",
    "# polynomial giving the steady states\n",
    "def polynomial_coefficients(pact, w, r0, r1, r2):\n",
    "    return [w * pact**2,\n",
    "            (2 * pact - w * r2 * pact**2),\n",
    "            (1 - 2 * r1 * pact),\n",
    "            -r0]\n",
    "\n",
    "# Function to find roots for varying pact\n",
    "def find_real_positive_roots(pact, w, r0, r1, r2):\n",
    "    coeffs = polynomial_coefficients(pact, w, r0, r1, r2)\n",
    "    roots = np.roots(coeffs)\n",
    "    # Filter for real and positive roots\n",
    "    real_positive_roots = roots[np.isreal(roots) & (roots > 0)]\n",
    "    return real_positive_roots\n",
    "\n",
    "def parameters(pact, val, param_to_sweep, fixed_w, fixed_r0, fixed_r1, fixed_r2):\n",
    "  if param_to_sweep=='w':\n",
    "    return [pact, val, fixed_r0, fixed_r1, fixed_r2]\n",
    "\n",
    "  if param_to_sweep=='r0':\n",
    "    return [pact, fixed_w, val, fixed_r1, fixed_r2]\n",
    "\n",
    "  if param_to_sweep=='r1':\n",
    "    return [pact, fixed_w, fixed_r0, val, fixed_r2]\n",
    "\n",
    "  if param_to_sweep=='r2':\n",
    "    return [pact, fixed_w, fixed_r0, fixed_r1, val]"
   ]
  },
  {
   "cell_type": "code",
   "execution_count": 4,
   "metadata": {
    "id": "Kpr7Zma7-fm-"
   },
   "outputs": [],
   "source": [
    "def is_stable(A, pact, w, r0, r1, r2):\n",
    "  same_sign_than_fprime = (-1 + pact * (-4 * A * (1 + A * pact) - 2 * r0 + 2 * r1 -\n",
    "                      2 * A * pact * (A + r0 + A * pact * (2 * A + r1 - r2) -\n",
    "                      r2) * w - A**4 * pact**3 * w**2))\n",
    "  if same_sign_than_fprime>0:\n",
    "    return True\n",
    "  else:\n",
    "    return False"
   ]
  },
  {
   "cell_type": "code",
   "execution_count": 5,
   "metadata": {
    "id": "F2Lq_6t3E33l"
   },
   "outputs": [],
   "source": [
    "def stable_and_unstable_points(c_values, fixed_w, fixed_r0, fixed_r1, fixed_r2):\n",
    "  stable_points=[]\n",
    "  unstable_points=[]\n",
    "  for cval in c_values:\n",
    "    pact=pAct(cval)\n",
    "    real_pos_roots=find_real_positive_roots(pact, fixed_w, fixed_r0, fixed_r1, fixed_r2)\n",
    "    for r in real_pos_roots:\n",
    "      bool_stable = is_stable(r, pact, fixed_w, fixed_r0, fixed_r1, fixed_r2)\n",
    "      if not bool_stable:\n",
    "        stable_points +=[(cval, r)]\n",
    "      else:\n",
    "        unstable_points +=[(cval, r)]\n",
    "\n",
    "  stable_points=np.array(stable_points)\n",
    "  unstable_points=np.array(unstable_points)\n",
    "  return stable_points, unstable_points"
   ]
  },
  {
   "cell_type": "code",
   "execution_count": 6,
   "metadata": {
    "id": "TJt_D2UBH2GL"
   },
   "outputs": [],
   "source": [
    "def c_bif_max(K_c, delE, w, r2):\n",
    "    exp_neg_delE = np.exp(-delE)\n",
    "    term1 = exp_neg_delE * K_c\n",
    "    term2 = (w * r2) / 2 - 1\n",
    "    sqrt_term = (exp_neg_delE * (1 + K_c)**2 * term2)**0.5\n",
    "    numerator = term1 + (w * r2) / 2 - 1 + sqrt_term\n",
    "\n",
    "    denominator = exp_neg_delE * K_c**2 - (w * r2) / 2 + 1\n",
    "\n",
    "    return numerator / denominator"
   ]
  },
  {
   "cell_type": "code",
   "execution_count": 7,
   "metadata": {
    "id": "h3th91_xJD_P"
   },
   "outputs": [],
   "source": [
    "def c_bif_min(K_c, delE, r1):\n",
    "    exp_neg_delE = np.exp(-delE)\n",
    "    term1 = exp_neg_delE * K_c\n",
    "    term2 = 2 * r1 - 1\n",
    "    sqrt_term = (exp_neg_delE * (1 + K_c)**2 * term2)**0.5\n",
    "    numerator = term1 + 2 * r1 - 1 + sqrt_term\n",
    "\n",
    "    denominator = exp_neg_delE * K_c**2 - 2 * r1 + 1\n",
    "\n",
    "    return numerator / denominator"
   ]
  },
  {
   "cell_type": "code",
   "execution_count": 8,
   "metadata": {
    "id": "s7aylxTKcC-5"
   },
   "outputs": [],
   "source": [
    "def sweep(sweep_list, param_to_sweep, fixed_w, fixed_r0, fixed_r1, fixed_r2, c_values= np.logspace(-4, 2, 1000), K_c = K_c, delE = delE):\n",
    "    Cminbif_values = []\n",
    "    Cmaxbif_values = []\n",
    "\n",
    "    for val in sweep_list:\n",
    "      c_bistable=[]\n",
    "      for c in c_values:\n",
    "        pact=pAct(c)\n",
    "        params=parameters(pact, val, param_to_sweep, fixed_w, fixed_r0, fixed_r1, fixed_r2)\n",
    "        roots = find_real_positive_roots(*params)\n",
    "        if len(roots)==3:\n",
    "          c_bistable+=[c]\n",
    "      if len(c_bistable)>0:\n",
    "        Cminbif_values.append(min(c_bistable))\n",
    "        Cmaxbif_values.append(max(c_bistable))\n",
    "      else:\n",
    "        Cminbif_values.append(np.nan)\n",
    "        Cmaxbif_values.append(np.nan)\n",
    "    return np.array(Cminbif_values), np.array(Cmaxbif_values)"
   ]
  },
  {
   "cell_type": "code",
   "execution_count": 9,
   "metadata": {
    "id": "QXB1qzp_BlrL"
   },
   "outputs": [],
   "source": [
    "nn=2000\n",
    "w_values = np.logspace(-6, 6, nn)   # Varying w\n",
    "r0_values = np.logspace(-6,np.log10(fixed_r1), nn)  # Varying r0\n",
    "r1_values = np.logspace(np.log10(fixed_r0),np.log10(fixed_r2), nn)  # Varying r1\n",
    "r2_values = np.logspace(np.log10(fixed_r1),6, nn)  # Varying r2"
   ]
  },
  {
   "cell_type": "code",
   "execution_count": null,
   "metadata": {
    "id": "pmQag4KmQCjg"
   },
   "outputs": [],
   "source": [
    "Cminbif_values_sweep_w, Cmaxbif_values_sweep_w=sweep(w_values, 'w', fixed_w, fixed_r0, fixed_r1, fixed_r2, c_values= np.logspace(-2, 2, 1000))\n",
    "Cminbif_values_sweep_r0, Cmaxbif_values_sweep_r0=sweep(r0_values, 'r0', fixed_w, fixed_r0, fixed_r1, fixed_r2, c_values= np.logspace(-2, 2, 1000))\n",
    "Cminbif_values_sweep_r1, Cmaxbif_values_sweep_r1=sweep(r1_values, 'r1', fixed_w, fixed_r0, fixed_r1, fixed_r2, c_values= np.logspace(-2, 2, 1000))\n",
    "Cminbif_values_sweep_r2, Cmaxbif_values_sweep_r2=sweep(r2_values, 'r2', fixed_w, fixed_r0, fixed_r1, fixed_r2, c_values= np.logspace(-2, 2, 1000))"
   ]
  },
  {
   "cell_type": "markdown",
   "metadata": {},
   "source": [
    "## Numerical regions of bistability only"
   ]
  },
  {
   "cell_type": "code",
   "execution_count": null,
   "metadata": {
    "colab": {
     "base_uri": "https://localhost:8080/",
     "height": 485
    },
    "id": "VOL8kyJRx8Wk",
    "outputId": "6017b455-1b42-403f-b5b8-b4bf3402253b"
   },
   "outputs": [],
   "source": [
    "fig, axs = plt.subplots(1,4, sharey=True, figsize=(20, 5))\n",
    "\n",
    "# omega\n",
    "\n",
    "w_min_bifurcation = max(4*fixed_r1/ fixed_r2,2*(1+np.exp(-delE))/fixed_r2)\n",
    "\n",
    "axs[0].plot(w_values, Ka*Cminbif_values_sweep_w, linewidth = 1.5, color = 'red')\n",
    "axs[0].plot(w_values, Ka*Cmaxbif_values_sweep_w, linewidth = 1.5, color = 'red')\n",
    "axs[0].fill_between(w_values, Ka*Cminbif_values_sweep_w , y2=Ka*Cmaxbif_values_sweep_w, color='red', alpha=0.5)\n",
    "axs[0].axvline(w_min_bifurcation, linestyle='--', color='k', linewidth=1.5)\n",
    "\n",
    "\n",
    "axs[0].tick_params(axis='both', which='both', labelsize = size_legend_axis )\n",
    "axs[0].set_xscale('log')\n",
    "axs[0].set_yscale('log')\n",
    "axs[0].set_ylabel(r'$c$', fontsize = size_label_axis_y)\n",
    "axs[0].set_xlabel(r'$\\omega$', fontsize = size_label_axis_x)\n",
    "axs[0].set_xlim((np.min(w_values), np.max(w_values)))\n",
    "\n",
    "\n",
    "# r0\n",
    "axs[1].plot(r0_values, Ka*Cmaxbif_values_sweep_r0, linewidth = 1.5, color = 'red')\n",
    "axs[1].plot(r0_values, Ka*Cminbif_values_sweep_r0, linewidth = 1.5, color = 'red')\n",
    "axs[1].fill_between(r0_values, Ka*Cminbif_values_sweep_r0, Ka*Cmaxbif_values_sweep_r0, color='red', alpha=0.5)\n",
    "\n",
    "axs[1].tick_params(axis='both', which='major', labelsize = size_legend_axis )\n",
    "axs[1].set_xscale('log')\n",
    "axs[1].set_yscale('log')\n",
    "axs[1].set_xlabel(r'$r_0$', fontsize = size_label_axis_x)\n",
    "axs[1].set_xlim((np.min(r0_values), np.max(r0_values)))\n",
    "\n",
    "# r1\n",
    "\n",
    "axs[2].plot(r1_values, Ka*Cmaxbif_values_sweep_r1, linewidth = 1.5, color = 'red')\n",
    "axs[2].plot(r1_values, Ka*Cminbif_values_sweep_r1, linewidth = 1.5, color = 'red')\n",
    "axs[2].fill_between(r1_values, Ka*Cminbif_values_sweep_r1, Ka*Cmaxbif_values_sweep_r1, color='red', alpha=0.5)\n",
    "\n",
    "axs[2].tick_params(axis='both', which='major', labelsize = size_legend_axis )\n",
    "axs[2].set_xscale('log')\n",
    "axs[2].set_yscale('log')\n",
    "axs[2].set_xlabel(r'$r_1$', fontsize = size_label_axis_x)\n",
    "axs[2].set_xlim((np.min(r1_values), np.max(r1_values)))\n",
    "\n",
    "# r2\n",
    "axs[3].plot(r2_values, Ka*Cmaxbif_values_sweep_r2, linewidth = 1.5, color = 'red')\n",
    "axs[3].plot(r2_values, Ka*Cminbif_values_sweep_r2, linewidth = 1.5, color = 'red')\n",
    "axs[3].fill_between(r2_values, Ka*Cminbif_values_sweep_r2, Ka*Cmaxbif_values_sweep_r2, color='red', alpha=0.5)\n",
    "\n",
    "axs[3].tick_params(axis='both', which='major', labelsize = size_legend_axis )\n",
    "axs[3].set_xscale('log')\n",
    "axs[3].set_yscale('log')\n",
    "axs[3].set_xlabel(r'$r_2$', fontsize = size_label_axis_x)\n",
    "axs[3].set_xlim((np.min(r2_values), np.max(r2_values)))"
   ]
  },
  {
   "cell_type": "markdown",
   "metadata": {},
   "source": [
    "## Numerical regions of bistability and necessary analytical conditions"
   ]
  },
  {
   "cell_type": "code",
   "execution_count": null,
   "metadata": {},
   "outputs": [],
   "source": [
    "fig, axs = plt.subplots(1,4, sharey=True, figsize=(20, 5))\n",
    "\n",
    "# omega\n",
    "\n",
    "w_min_bifurcation = max(4*fixed_r1/ fixed_r2,2*(1+np.exp(-delE))/fixed_r2)\n",
    "w_min_maximal_concentration_bound_doesnt_exist=2*(1+np.exp(-delE)*K_c**2)/fixed_r2\n",
    "w_values_Descartes_min =  np.logspace(np.log10(w_min_bifurcation), np.log10(max(w_values)), 100)\n",
    "I_w_min = np.ones(len(w_values_Descartes_min))\n",
    "w_values_Descartes_max =  np.logspace(np.log10(w_min_bifurcation), np.log10(w_min_maximal_concentration_bound_doesnt_exist), 1000)[:-3]\n",
    "I_w_max = np.ones(len(w_values_Descartes_max))\n",
    "w_2=np.logspace(np.log10(w_min_maximal_concentration_bound_doesnt_exist), np.log10(max(w_values)),100)\n",
    "I_w_2 = np.ones(len(w_2))\n",
    "\n",
    "axs[0].plot(w_values_Descartes_min,c_bif_min(K_c, delE, fixed_r1)*I_w_min, linewidth=1.5, color = 'orange')\n",
    "axs[0].plot(w_values_Descartes_max,c_bif_max(K_c, delE, w_values_Descartes_max, fixed_r2),linewidth=1.5, color = 'orange')\n",
    "axs[0].fill_between(w_values_Descartes_max,c_bif_min(K_c, delE, fixed_r1)*I_w_max , y2=c_bif_max(K_c, delE, w_values_Descartes_max, fixed_r2), color='orange', alpha=0.5)\n",
    "axs[0].fill_between(w_2,c_bif_min(K_c, delE, fixed_r1)*I_w_2 , y2=np.nanmax(Cmaxbif_values_sweep_w)*1.3, color='orange', alpha=0.5)\n",
    "\n",
    "axs[0].plot(w_values, Cminbif_values_sweep_w, linewidth = 1.5, color = 'red')\n",
    "axs[0].plot(w_values, Cmaxbif_values_sweep_w, linewidth = 1.5, color = 'red')\n",
    "axs[0].fill_between(w_values, Cminbif_values_sweep_w , y2=Cmaxbif_values_sweep_w, color='red', alpha=0.5)\n",
    "\n",
    "axs[0].axvline(w_min_bifurcation, linestyle='--', color='k', linewidth=1.5)\n",
    "\n",
    "axs[0].tick_params(axis='both', which='both', labelsize = size_legend_axis )\n",
    "axs[0].set_xscale('log')\n",
    "axs[0].set_yscale('log')\n",
    "axs[0].set_ylabel(r'$\\frac{c^{min}_{bif}}{K_a}$', fontsize = size_label_axis_y)\n",
    "axs[0].set_xlabel(r'$\\omega$', fontsize = size_label_axis_x)\n",
    "axs[0].set_xlim((np.min(w_values), np.max(w_values)))\n",
    "\n",
    "\n",
    "# r0\n",
    "axs[1].plot(r0_values, Cmaxbif_values_sweep_r0, linewidth = 1.5, color = 'red')\n",
    "axs[1].plot(r0_values, Cminbif_values_sweep_r0, linewidth = 1.5, color = 'red')\n",
    "axs[1].fill_between(r0_values, Cminbif_values_sweep_r0, Cmaxbif_values_sweep_r0, color='red', alpha=0.5)\n",
    "\n",
    "axs[1].tick_params(axis='both', which='major', labelsize = size_legend_axis )\n",
    "axs[1].set_xscale('log')\n",
    "axs[1].set_yscale('log')\n",
    "axs[1].set_xlabel(r'$r_0$', fontsize = size_label_axis_x)\n",
    "axs[1].set_xlim((np.min(r0_values), np.max(r0_values)))\n",
    "\n",
    "# r1\n",
    "\n",
    "r_1_max_bifurcation=min(fixed_w*fixed_r2/4,(1+np.exp(-delE)*K_c**2)/2)\n",
    "r_1_max_minimal_concentration_bound_doesnt_exist=(1+np.exp(-delE))/2\n",
    "r1_values_Descartes_max =  np.logspace(np.log10(min(r1_values)), np.log10(r_1_max_bifurcation), 100)\n",
    "I_r1_max = np.ones(len(r1_values_Descartes_max))\n",
    "r1_2 =  np.logspace(np.log10(min(r1_values)), np.log10(r_1_max_minimal_concentration_bound_doesnt_exist), 100)\n",
    "I_r1_2 = np.ones(len(r1_2))\n",
    "r1_values_Descartes_min =  np.logspace(np.log10(r_1_max_minimal_concentration_bound_doesnt_exist), np.log10(min(r_1_max_bifurcation,max(r1_values))), 100)\n",
    "dec=c_bif_min(K_c, delE, r1_values_Descartes_min)\n",
    "\n",
    "axs[2].plot(r1_values_Descartes_max,c_bif_max(K_c, delE, fixed_w, fixed_r2)*I_r1_max,linewidth=1.5, color = 'orange')\n",
    "axs[2].plot(r1_values_Descartes_min,dec, linewidth = 1.5, color = 'orange')\n",
    "axs[2].fill_between(r1_values_Descartes_min,dec, y2=c_bif_max(K_c, delE, fixed_w, fixed_r2)*I_r1_max, color='orange', alpha=0.5)\n",
    "axs[2].fill_between(r1_2, c_bif_max(K_c, delE, fixed_w, fixed_r2)*I_r1_2, color='orange', alpha=0.5)\n",
    "\n",
    "axs[2].plot(r1_values, Cmaxbif_values_sweep_r1, linewidth = 1.5, color = 'red')\n",
    "axs[2].plot(r1_values, Cminbif_values_sweep_r1, linewidth = 1.5, color = 'red')\n",
    "axs[2].fill_between(r1_values, Cminbif_values_sweep_r1, Cmaxbif_values_sweep_r1, color='red', alpha=0.5)\n",
    "\n",
    "axs[2].axvline(r_1_max_bifurcation, linestyle='--', color='k', linewidth=1.5)\n",
    "\n",
    "axs[2].tick_params(axis='both', which='major', labelsize = size_legend_axis )\n",
    "axs[2].set_xscale('log')\n",
    "axs[2].set_yscale('log')\n",
    "axs[2].set_xlabel(r'$r_1$', fontsize = size_label_axis_x)\n",
    "axs[2].set_xlim((np.min(r1_values), np.max(r1_values)))\n",
    "\n",
    "# r2\n",
    "\n",
    "r_2_min_bifurcation=max(4*fixed_r1/ fixed_w,2*(1+np.exp(-delE))/fixed_w)\n",
    "r_2_min_maximal_concentration_bound_doesnt_exist=2*(1+np.exp(-delE)*K_c**2)/fixed_w\n",
    "r2_values_Descartes_max =  np.logspace(np.log10(r_2_min_bifurcation), np.log10(r_2_min_maximal_concentration_bound_doesnt_exist), 1000)[:-3]\n",
    "I_r2_max = np.ones(len(r2_values_Descartes_max))\n",
    "r2_2 = np.logspace(np.log10(r_2_min_maximal_concentration_bound_doesnt_exist), np.log10(max(r2_values)), 100)\n",
    "I_r2_2 = np.ones(len(r2_2))\n",
    "\n",
    "r2_values_Descartes_min =  np.logspace(np.log10(r_2_min_bifurcation), np.log10(max(r2_values)), 100)\n",
    "I_r2_min = np.ones(len(r2_values_Descartes_min))\n",
    "\n",
    "axs[3].plot(r2_values_Descartes_min,c_bif_min(K_c, delE, fixed_r1)*I_r2_min, linewidth = 1.5, color = 'orange')\n",
    "axs[3].plot(r2_values_Descartes_max,c_bif_max(K_c, delE, fixed_w, r2_values_Descartes_max), linewidth=1.5, color = 'orange')\n",
    "axs[3].fill_between(r2_2,c_bif_min(K_c, delE, fixed_r1)*I_r2_2, y2=np.nanmax(Cmaxbif_values_sweep_w)*1.3, color='orange', alpha=0.5,edgecolor='none')\n",
    "axs[3].fill_between(r2_values_Descartes_max,c_bif_min(K_c, delE, fixed_r1)*I_r2_max, y2=c_bif_max(K_c, delE, fixed_w, r2_values_Descartes_max),edgecolor='none', color='orange', alpha=0.5)\n",
    "\n",
    "axs[3].plot(r2_values, Cmaxbif_values_sweep_r2, linewidth = 1.5, color = 'red')\n",
    "axs[3].plot(r2_values, Cminbif_values_sweep_r2, linewidth = 1.5, color = 'red')\n",
    "axs[3].fill_between(r2_values, Cminbif_values_sweep_r2, Cmaxbif_values_sweep_r2, color='red', alpha=0.5)\n",
    "\n",
    "axs[3].axvline(r_2_min_bifurcation, linestyle='--', color='k')\n",
    "\n",
    "axs[3].tick_params(axis='both', which='major', labelsize = size_legend_axis )\n",
    "axs[3].set_xscale('log')\n",
    "axs[3].set_yscale('log')\n",
    "\n",
    "axs[3].set_xlabel(r'$r_2$', fontsize = size_label_axis_x)\n",
    "axs[3].set_xlim((np.min(r2_values), np.max(r2_values)))\n",
    "axs[3].set_ylim((np.min(dec), np.nanmax(Cmaxbif_values_sweep_w)*0.9))\n"
   ]
  },
  {
   "cell_type": "code",
   "execution_count": null,
   "metadata": {},
   "outputs": [],
   "source": []
  }
 ],
 "metadata": {
  "colab": {
   "provenance": []
  },
  "kernelspec": {
   "display_name": "Python 3 (ipykernel)",
   "language": "python",
   "name": "python3"
  },
  "language_info": {
   "codemirror_mode": {
    "name": "ipython",
    "version": 3
   },
   "file_extension": ".py",
   "mimetype": "text/x-python",
   "name": "python",
   "nbconvert_exporter": "python",
   "pygments_lexer": "ipython3",
   "version": "3.12.4"
  }
 },
 "nbformat": 4,
 "nbformat_minor": 4
}
