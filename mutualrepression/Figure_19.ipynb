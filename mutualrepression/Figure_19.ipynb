{
 "cells": [
  {
   "cell_type": "code",
   "execution_count": 1,
   "metadata": {
    "id": "_CopFNB5Qgd5"
   },
   "outputs": [],
   "source": [
    "import numpy as np\n",
    "import matplotlib.pyplot as plt\n",
    "from scipy.optimize import curve_fit\n",
    "from scipy.integrate import solve_ivp\n",
    "from scipy.stats import linregress\n",
    "from matplotlib.colors import ListedColormap\n",
    "import matplotlib.colors as mcolors\n",
    "\n",
    "import matplotlib.transforms as mtransforms\n",
    "from matplotlib.patches import FancyArrowPatch"
   ]
  },
  {
   "cell_type": "code",
   "execution_count": 3,
   "metadata": {
    "id": "jfxtScN5-b3u"
   },
   "outputs": [],
   "source": [
    "delE=4.5\n",
    "Ka=1.4*10**(-4)\n",
    "Ki=5.3*10**(-7)\n",
    "K_c=Ka/Ki\n",
    "\n",
    "custom_cmap = ListedColormap([\"#FFCCCC\", \"#ADD8E6\"])\n",
    "color_list = ['r', 'orange', 'blue', 'pink']\n",
    "\n",
    "# helper functions\n",
    "def pAct(c, K_c=K_c, delE=delE):\n",
    "    \"\"\" probability of repressor/activator being active\n",
    "\n",
    "    Parameters:\n",
    "        - c: inducer concentration\n",
    "        - K_c: dissociation constant in active state / dissociation constant in inactive state\n",
    "        - delE: energy difference between inactive and active state\n",
    "    \"\"\"\n",
    "\n",
    "    p= (1 + c)**2 / ((1 + c)**2 + np.exp(-delE)*(1 + c*K_c)**2)\n",
    "    return p\n",
    "\n",
    "fixed_K = 1\n",
    "fixed_r = 2\n",
    "fixed_w = 7.5\n",
    "fixed_gamma=1\n",
    "proba=pAct(1e-6/Ka)"
   ]
  },
  {
   "cell_type": "markdown",
   "metadata": {
    "id": "ORpkJu198yPn"
   },
   "source": [
    "## Mutual Repression -  Dynamical equation\n",
    "\n",
    "\\begin{align}\n",
    "\\begin{split}\n",
    "    \\frac{d\\tilde{A}}{d\\tau} &= - \\gamma \\tilde{A} + \\tilde{r}\\frac{1}{1 + 2p_{act,B}\\tilde{B} + \\omega_B \\Big(p_{act, B}\\tilde{B} \\Big)^2} = f(A,B) \\\\\n",
    "    \\frac{d\\tilde{B}}{d\\tau} &= - \\tilde{B} + \\tilde{r}\\frac{1}{1 + 2p_{act, A}\\frac{\\tilde{A}}{K} + \\omega_A \\Big(p_{act, A}\\frac{\\tilde{A}}{K}\\Big)^2}=g(A,B).\n",
    "\\end{split}\n",
    "\\end{align}\n",
    "\n",
    "\\begin{align}\n",
    "\\begin{split}\n",
    "&\\frac{\\partial f}{\\partial \\tilde{A}}=  -\\gamma \\\\\n",
    "&\\frac{\\partial f}{\\partial \\tilde{B}}= -\\tilde{r}\\frac{2p_{act,B} (1+\\omega_B p_{act,B} \\tilde{B})}{\\Big(1 + 2p_{act,B}\\tilde{B} + \\omega_B (p_{act, B}\\tilde{B} )^2\\Big)^2}\\\\\n",
    "&\\frac{\\partial g}{\\partial \\tilde{A}}= -\\tilde{r}\\frac{2p_{act,A} (1+\\omega_A p_{act,A} \\tilde{A})}{\\Big(1 + 2p_{act,A}\\tilde{A} + \\omega_A (p_{act, A}\\tilde{A} )^2\\Big)^2}\\\\\n",
    "&\\frac{\\partial g}{\\partial \\tilde{B}}= -1\n",
    "\\end{split}\n",
    "\\end{align}\n",
    "\n",
    "We choose $\\gamma=1$ .\n",
    "\n"
   ]
  },
  {
   "cell_type": "code",
   "execution_count": 5,
   "metadata": {
    "id": "ntKCcnehaQ57"
   },
   "outputs": [],
   "source": [
    "def partial_f_partial_A(gamma=fixed_gamma):\n",
    "  return -fixed_gamma\n",
    "\n",
    "def partial_f_partial_B(B,pactA, pactB, wA, wB, r):\n",
    "  return -r*(2*pactB*(1+wB*pactB*B))/(1+2*pactB*B+wB*(pactB*B)**2)**2\n",
    "\n",
    "def partial_g_partial_A(A,pactA, pactB, wA, wB, r):\n",
    "  return -r*(2*pactA*(1+wA*pactA*A))/(1+2*pactA*A+wA*(pactA*A)**2)**2\n",
    "\n",
    "def partial_g_partial_B():\n",
    "  return -1\n",
    "\n",
    "def det_of_jacobian(A,B,pactA, pactB, wA, wB, r):\n",
    "  return partial_f_partial_A()*partial_g_partial_B() - partial_f_partial_B(B,pactA, pactB, wA, wB, r)*partial_g_partial_A(A,pactA, pactB, wA, wB, r)"
   ]
  },
  {
   "cell_type": "code",
   "execution_count": 7,
   "metadata": {
    "id": "GeAgs6v4rSKa"
   },
   "outputs": [],
   "source": [
    "def is_stable_mutual_repression(A, B, pactA=proba, pactB=proba, wA = fixed_w, wB = fixed_w, r = fixed_r):\n",
    "  if det_of_jacobian(A,B,pactA, pactB, wA, wB, r) > 0:\n",
    "    return True\n",
    "  else:\n",
    "    return False\n",
    "\n",
    "def eigen_values(A, B, pactA=proba, pactB=proba, wA = fixed_w, wB = fixed_w, r = fixed_r):\n",
    "  J=np.zeros((2,2))\n",
    "  J[0,0]=partial_f_partial_A()\n",
    "  J[0,1]=partial_f_partial_B(B,pactA, pactB, wA, wB, r)\n",
    "  J[1,0]=partial_g_partial_A(A,pactA, pactB, wA, wB, r)\n",
    "  J[1,1]=partial_g_partial_B()\n",
    "  eigenvalues, eigenvectors = np.linalg.eig(J)\n",
    "  return eigenvalues\n",
    "\n",
    "def steady_state_A(r, K, omegaA, omegaB, pactA, pactB):\n",
    "  coeff0 = -r\n",
    "  coeff1 = 1 - (4 * pactA * r) / K + 2 * pactB * r + pactB**2 * r**2 * omegaB \n",
    "  coeff2 =  (4 * pactA) / K - (4 * pactA**2 * r) / K**2 + (4 * pactA * pactB * r) / K - (2 * pactA**2 * r * omegaA) / K**2\n",
    "  coeff3 = (4 * pactA**2) / K**2 + (2 * pactA**2 * omegaA) / K**2 - (4 * pactA**3 * r * omegaA) / K**3 + (2 * pactA**2 * pactB * r * omegaA) / K**2\n",
    "  coeff4 = (4 * pactA**3 * omegaA) / K**3 - (pactA**4 * r * omegaA**2) / K**4\n",
    "  coeff5 = (pactA**4 * omegaA**2) / K**4 \n",
    "  coefficients= [coeff5, coeff4, coeff3, coeff2, coeff1, coeff0]\n",
    "  #coefficients=np.array([(pactA**4 * omegaB**2) / K**4,((4 * pactA**3 * omegaB) / K**3 - (pactA**4 * r * omegaB**2) / K**4), ((4 * pactA**2) / K**2 + (2 * pactA**2 * omegaB) / K**2 - (4 * pactA**3 * r * omegaB) / K**3 + (2 * pactA**2 * pactB * r * omegaB) / K**2),((4 * pactA) / K - (4 * pactA**2 * r) / K**2 + (4 * pactA * pactB * r) / K - (2 * pactA**2 * r * omegaB) / K**2),(1 - (4 * pactA * r) / K + 2 * pactB * r + pactB**2 * r**2 * omegaA),-r])\n",
    "  roots=np.roots(coefficients)\n",
    "  real_roots=np.real(roots[np.isreal(roots)])\n",
    "  real_positive_roots = real_roots[(real_roots > 0)]\n",
    "  return np.sort(real_positive_roots)\n",
    "\n",
    "def steady_state_AB(r, K, omegaA, omegaB, pactA, pactB):\n",
    "  Ass = steady_state_A(r, K, omegaA, omegaB, pactA, pactB)\n",
    "  Bss = r/(1+2*pactA*Ass/K+omegaA*(pactA*Ass/K)**2)\n",
    "  return Ass, Bss"
   ]
  },
  {
   "cell_type": "code",
   "execution_count": 9,
   "metadata": {
    "id": "no7GVXs7-NMF"
   },
   "outputs": [],
   "source": [
    "def mut_rep_R1_R2_t_profile(initial_conditions, p1=pAct(1e-6*Ka), p2=pAct(1e-6*Ka), w1=fixed_w, w2=fixed_w, r=fixed_r, K=fixed_K, tmax =100):\n",
    "  def system(t, vars):\n",
    "    R1, R2 = vars\n",
    "    dR1_dt = -R1 + r / (1 + 2 * p2 * R2 + ((p2 * R2)**2) * w2)\n",
    "    dR2_dt = -R2 + r / (1 + 2 * p1 * (R1 / K) + ((p1 * (R1 / K))**2) * w1)\n",
    "    return [dR1_dt, dR2_dt]\n",
    "  t_span = (0, tmax)  \n",
    "  t_eval = np.linspace(0, tmax, 2000) \n",
    "  solution = solve_ivp(system, t_span, initial_conditions, t_eval=t_eval, method='RK45')\n",
    "  R1_of_t = solution.y[0]\n",
    "  R2_of_t = solution.y[1]\n",
    "  time = solution.t\n",
    "\n",
    "  return R1_of_t, R2_of_t, time"
   ]
  },
  {
   "cell_type": "code",
   "execution_count": 11,
   "metadata": {},
   "outputs": [],
   "source": [
    "def time_scale_mut(ss1,ss2,f1_of_t,f2_of_t,time,thresh=0.9,steady_state_ode=0):\n",
    "#   \"\"\" steady_state_ode : boolean, 0 if the the steady state is computed from an analytical equation\n",
    "#                                   1 if the steady state is computed from solving ode\"\"\" \n",
    "    \n",
    "  f1_0, f2_0 = f1_of_t[0], f2_of_t[0]\n",
    "  f1_inf, f2_inf = f1_of_t[-1], f2_of_t[-1]\n",
    "  t_0=time[0]\n",
    "  if not steady_state_ode:\n",
    "      i_ss = np.argmin(np.abs(f1_inf-ss1))\n",
    "      f1ss, f2ss = ss1[i_ss], ss2[i_ss]\n",
    "  if steady_state_ode:\n",
    "      f1ss, f2ss = f1_inf, f2_inf\n",
    "  distinf_1 = np.abs(f1_inf - f1ss )\n",
    "  distinf_2 = np.abs(f2_inf - f2ss )\n",
    "  disti_1 = distinf_1\n",
    "  disti_2 = distinf_2\n",
    "  i_t = len(time)-1\n",
    "  dist_thresh_1 = (1-thresh)*f1ss\n",
    "  dist_thresh_2 = (1-thresh)*f2ss \n",
    "  while (disti_1 < dist_thresh_1 or disti_2 < dist_thresh_2) and i_t>0:\n",
    "    i_t-=1 \n",
    "    disti_1 = np.abs(f1ss-f1_of_t[i_t])\n",
    "    disti_2 = np.abs(f2ss-f2_of_t[i_t])\n",
    "  return time[i_t]"
   ]
  },
  {
   "cell_type": "code",
   "execution_count": 13,
   "metadata": {
    "id": "VdmF-qCcAm2M"
   },
   "outputs": [],
   "source": [
    "def time_heat_map(R1_fixed_points, R2_fixed_points, log10R0min=-2, log10R0max=1, n=50, tmax=100, thresh=0.9,p1=pAct(1e-6*Ka), p2=pAct(1e-6*Ka), w1=fixed_w, w2=fixed_w, r=fixed_r, K=fixed_K):\n",
    "  R0_list_i=np.logspace(log10R0min , log10R0max, n)\n",
    "  tau_R1_R2_list_2d_i = np.zeros((n,n))\n",
    "\n",
    "  for i1 in range(n):\n",
    "    R01=R0_list_i[i1]\n",
    "    for i2 in range(n):\n",
    "      R02=R0_list_i[i2]\n",
    "      R0=[R01,R02]\n",
    "      R1_of_t, R2_of_t, time = mut_rep_R1_R2_t_profile(R0,tmax=tmax,p1=p1, p2=p2, w1=w1, w2=w2, r=r, K=K)\n",
    "      tau_R1_R2_i = time_scale_mut(R1_fixed_points, R2_fixed_points, R1_of_t, R2_of_t, time,thresh=thresh)\n",
    "      tau_R1_R2_list_2d_i[i1,i2] = tau_R1_R2_i\n",
    "  return tau_R1_R2_list_2d_i"
   ]
  },
  {
   "cell_type": "code",
   "execution_count": 15,
   "metadata": {
    "id": "swyHaTY4JsTb"
   },
   "outputs": [],
   "source": [
    "def separatrix_heat_map(R1_fixed_points, R2_fixed_points, log10R0min=-2, log10R0max=1, n=50, tmax=100, p1=pAct(1e-6*Ka), p2=pAct(1e-6*Ka), w1=fixed_w, w2=fixed_w, r=fixed_r, K=fixed_K):\n",
    "  R0_list=np.logspace(log10R0min , log10R0max, n)\n",
    "  steady_state_1_or_2 = np.zeros((n,n))\n",
    "\n",
    "  for i1 in range(n):\n",
    "    R01=R0_list[i1]\n",
    "    for i2 in range(n):\n",
    "      R02=R0_list[i2]\n",
    "      R0=[R01,R02]\n",
    "      R1_of_t, R2_of_t, time = mut_rep_R1_R2_t_profile(R0,tmax=tmax, p1=p1, p2=p2, w1=w1, w2=w2, r=r, K=K)\n",
    "      R1ss, R2ss = R1_of_t[-1], R2_of_t[-1]\n",
    "      iss1, iss2 = np.argmin(np.abs(R1_fixed_points - R1ss)), np.argmin(np.abs(R2_fixed_points - R2ss))\n",
    "      if iss1 == 0 and iss2 == 0:\n",
    "        steady_state_1_or_2[i1,i2] = 1\n",
    "      elif iss1 == 2 and iss2 == 2:\n",
    "        steady_state_1_or_2[i1,i2] = 0\n",
    "  return steady_state_1_or_2"
   ]
  },
  {
   "cell_type": "code",
   "execution_count": 17,
   "metadata": {},
   "outputs": [],
   "source": [
    "def separatrix_ode(sepatrix_cat , p1=pAct(1e-6*Ka), p2=pAct(1e-6*Ka), w1=fixed_w, w2=fixed_w, r=fixed_r, K=fixed_K,gamma=fixed_gamma, A_span = (0.01, 10)):\n",
    "    A_vals = np.logspace(np.log10(A_span[0]), np.log10(A_span[1]), 400)\n",
    "    \n",
    "    def ode_dBdA(A, B):\n",
    "        denominator_f = 1 + 2 * p2 * B + w1 * (p2 * B) ** 2\n",
    "        f = -gamma * A + r / denominator_f\n",
    "        term = p1 * A / K\n",
    "        denominator_g = 1 + 2 * term + w2 * term ** 2\n",
    "        g = -B + r / denominator_g\n",
    "        return g/f \n",
    "\n",
    "    def ode_dAdB(B, A):\n",
    "        denominator_f = 1 + 2 * p2 * B + w1 * (p2 * B) ** 2\n",
    "        f = -gamma * A + r / denominator_f\n",
    "        term = p1 * A / K\n",
    "        denominator_g = 1 + 2 * term + w2 * term ** 2\n",
    "        g = -B + r / denominator_g\n",
    "        return f/g    \n",
    "        \n",
    "    all_B_for_A_0 = sepatrix_cat[:,0]\n",
    "    R0 = np.logspace(np.log10(A_span[0]), np.log10(A_span[1]), len(sepatrix_cat))\n",
    "    indice_sep = np.where(np.diff(all_B_for_A_0) != 0)[0]\n",
    "    if indice_sep.size > 0 :\n",
    "        B0 = [(R0[indice_sep[0]]+R0[indice_sep[0]+1])/2]\n",
    "        solution = solve_ivp(ode_dBdA, A_span, B0, t_eval = A_vals, method='RK45')\n",
    "        B_sol = solution.y[0]\n",
    "        A_sol = solution.t\n",
    "    else :\n",
    "        all_A_for_B_0 = sepatrix_cat[0,:]\n",
    "        indice_sep = np.where(np.diff(all_A_for_B_0) != 0)[0]\n",
    "        A0 = [(R0[indice_sep[0]]+R0[indice_sep[0]+1])/2]\n",
    "        print(A0[0])\n",
    "        solution = solve_ivp(ode_dAdB, A_span, A0, t_eval = A_vals, method='RK45')\n",
    "        A_sol = solution.y[0]\n",
    "        B_sol = solution.t\n",
    "    return A_sol, B_sol"
   ]
  },
  {
   "cell_type": "code",
   "execution_count": 19,
   "metadata": {},
   "outputs": [],
   "source": [
    "def steady_state_heat_map( log10R0min=-2, log10R0max=1, n=50, tmax=100, p1=pAct(1e-6*Ka), p2=pAct(1e-6*Ka), w1=fixed_w, w2=fixed_w, r=fixed_r, K=fixed_K):\n",
    "  R0_list=np.logspace(log10R0min , log10R0max, n)\n",
    "  steady_state_R1 = np.zeros((n,n))\n",
    "  steady_state_R2 = np.zeros((n,n))\n",
    "\n",
    "  for i1 in range(n):\n",
    "    R01=R0_list[i1]\n",
    "    for i2 in range(n):\n",
    "      R02=R0_list[i2]\n",
    "      R0=[R01,R02]\n",
    "      R1_of_t, R2_of_t, time = mut_rep_R1_R2_t_profile(R0,tmax=tmax, p1=p1, p2=p2, w1=w1, w2=w2, r=r, K=K)\n",
    "      R1ss, R2ss = R1_of_t[-1], R2_of_t[-1]\n",
    "      steady_state_R1[i1,i2] = R1ss\n",
    "      steady_state_R2[i1,i2] = R2ss\n",
    "  return steady_state_R1, steady_state_R2"
   ]
  },
  {
   "cell_type": "markdown",
   "metadata": {
    "id": "eRWbxQ_yzhoR"
   },
   "source": [
    "## Fully symetric case $K=1$, $\\omega_1=\\omega_2=7.5$, $r=2$."
   ]
  },
  {
   "cell_type": "code",
   "execution_count": 21,
   "metadata": {},
   "outputs": [],
   "source": [
    "R1_fixed_points,R2_fixed_points = steady_state_AB(fixed_r,fixed_K, fixed_w, fixed_w, pAct(1e-6/Ka), pAct(1e-6/Ka))"
   ]
  },
  {
   "cell_type": "code",
   "execution_count": 23,
   "metadata": {},
   "outputs": [],
   "source": [
    "steady_state_1_or_2_sym=separatrix_heat_map(R1_fixed_points, R2_fixed_points,n=200)"
   ]
  },
  {
   "cell_type": "code",
   "execution_count": 25,
   "metadata": {},
   "outputs": [],
   "source": [
    "tau_R1_R2_list_2d_sym=time_heat_map(R1_fixed_points, R2_fixed_points,tmax=100,thresh=0.95,n=200)"
   ]
  },
  {
   "cell_type": "code",
   "execution_count": 27,
   "metadata": {},
   "outputs": [],
   "source": [
    "sep_curve=separatrix_ode(np.transpose(steady_state_1_or_2_sym))"
   ]
  },
  {
   "cell_type": "code",
   "execution_count": 31,
   "metadata": {},
   "outputs": [
    {
     "data": {
      "image/png": "[encoded data removed]",
      "text/plain": [
       "<Figure size 400x400 with 1 Axes>"
      ]
     },
     "metadata": {},
     "output_type": "display_data"
    }
   ],
   "source": [
    "log10R0min,log10R0max=-2,1\n",
    "R0=np.logspace(log10R0min,log10R0max,200)\n",
    "R01,R02 = np.meshgrid(R0,R0)\n",
    "init_list = [[0.05,0.1],[2,1]]\n",
    "fig, ax = plt.subplots(1, 1, figsize=(4,4))\n",
    "c2 = ax.pcolormesh(R01,R02,steady_state_1_or_2_sym, cmap=custom_cmap)\n",
    "ax.plot(sep_curve[0],sep_curve[1],'g')\n",
    "i=0\n",
    "for init in init_list:\n",
    "    R1t,R2t,time = mut_rep_R1_R2_t_profile(init, p1=pAct(1e-6/Ka), p2=pAct(1e-6/Ka), w1=fixed_w, w2=fixed_w, r=fixed_r, K=fixed_K, tmax =100)\n",
    "    ax.plot([init[0]],[init[1]], color = 'k', marker='o', markersize=7)\n",
    "    ax.plot(R1t,R2t,'k')\n",
    "    ax.set_xlim(10**log10R0min, 10**log10R0max)\n",
    "    ax.set_ylim(10**log10R0min, 10**log10R0max)\n",
    "    for iss in range(len(R1_fixed_points)):\n",
    "        rss1=R1_fixed_points[iss]\n",
    "        rss2=R2_fixed_points[iss]\n",
    "        stable = is_stable_mutual_repression(rss1, rss2)\n",
    "        if stable:\n",
    "          ax.plot([rss1],[rss2], color = color_list[iss], marker='o', markersize=7)\n",
    "        else:\n",
    "          ax.plot([rss1],[rss2], color = color_list[iss], marker='o', markersize=7, markerfacecolor='white', markeredgewidth=1.5)\n",
    "\n",
    "    #plot arrows\n",
    "    log_R1t = np.log10(R1t)\n",
    "    log_R2t = np.log10(R2t)\n",
    "    \n",
    "\n",
    "    dists = np.sqrt(np.diff(log_R1t)**2 + np.diff(log_R2t)**2)\n",
    "    arc_length = np.concatenate([[0], np.cumsum(dists)])\n",
    "    total_length = arc_length[-1]\n",
    "    \n",
    "    if i==0:\n",
    "        targets = [0.25 * total_length, 0.5 * total_length, 0.75 * total_length]\n",
    "    else: \n",
    "        targets = [0.25 * total_length, 0.6 * total_length, 0.75 * total_length]\n",
    "    \n",
    "    arrow_indices = [np.argmin(np.abs(arc_length - t)) for t in targets]\n",
    "    \n",
    "    for idx in arrow_indices:\n",
    "        if idx <= 0 or idx >= len(R1t) - 1:\n",
    "            continue\n",
    "        x_start, y_start = R1t[idx - 1], R2t[idx - 1]\n",
    "        x_end, y_end = R1t[idx], R2t[idx]\n",
    "    \n",
    "        arrow = FancyArrowPatch((x_start, y_start), (x_end, y_end),\n",
    "                                arrowstyle='->', mutation_scale=12,\n",
    "                                color='k', linewidth=1.2)\n",
    "        ax.add_patch(arrow)\n",
    "\n",
    "    i+=1\n",
    "ax.set_aspect('equal')\n",
    "ax.set_xscale('log')\n",
    "ax.set_yscale('log')\n",
    "ax.set_xlabel(r'$\\bar{R}^0_{1}$', fontsize=16)\n",
    "ax.set_ylabel(r'$\\bar{R}^0_{2}$', fontsize=16)\n",
    "ax.tick_params(axis='both', which='major', labelsize=14, width=1.5, length=6)\n",
    "ax.tick_params(axis='both', which='minor', labelsize=12, width=1.2, length=4)"
   ]
  },
  {
   "cell_type": "code",
   "execution_count": 37,
   "metadata": {},
   "outputs": [
    {
     "name": "stdout",
     "output_type": "stream",
     "text": [
      "0.0 35.71785892946473\n"
     ]
    },
    {
     "data": {
      "image/png": "[encoded data removed]",
      "text/plain": [
       "<Figure size 400x400 with 2 Axes>"
      ]
     },
     "metadata": {},
     "output_type": "display_data"
    }
   ],
   "source": [
    "log10R0min,log10R0max=-2,1\n",
    "R0=np.logspace(log10R0min,log10R0max,200)\n",
    "R01,R02 = np.meshgrid(R0,R0)\n",
    "init_list = [[0.05,0.1],[2,1]]\n",
    "fig, ax = plt.subplots(1, 1, figsize=(4,4))\n",
    "c1 = ax.pcolormesh(R01,R02,tau_R1_R2_list_2d_sym, cmap='Grays',rasterized=True,vmax=38.519259629814904) # to have the same color map for asym and sym\n",
    "#ax.plot(sep_curve[0],sep_curve[1],'g',lw=1.3)\n",
    "\n",
    "for iss in range(len(R1_fixed_points)):\n",
    "    rss1=R1_fixed_points[iss]\n",
    "    rss2=R2_fixed_points[iss]\n",
    "    stable = is_stable_mutual_repression(rss1, rss2)\n",
    "    if stable:\n",
    "      ax.plot([rss1],[rss2], color = color_list[iss], marker='o', markersize=7)\n",
    "    else:\n",
    "      ax.plot([rss1],[rss2], color = color_list[iss], marker='o', markersize=7, markerfacecolor='white', markeredgewidth=1.5)\n",
    "\n",
    "ax.set_aspect('equal')\n",
    "ax.set_xscale('log')\n",
    "ax.set_yscale('log')\n",
    "ax.set_xlabel(r'$\\bar{R}^0_{1}$', fontsize=16)\n",
    "ax.set_ylabel(r'$\\bar{R}^0_{2}$', fontsize=16)\n",
    "ax.tick_params(axis='both', which='major', labelsize=14, width=1.5, length=6)\n",
    "ax.tick_params(axis='both', which='minor', labelsize=12, width=1.2, length=4)\n",
    "\n",
    "print(np.min(tau_R1_R2_list_2d_sym),np.max(tau_R1_R2_list_2d_sym))\n",
    "cbar = fig.colorbar(c1, ax=ax, label=r'$\\tau$', shrink=1, aspect=25)\n",
    "cbar.ax.set_ylabel(r'$\\tau$', fontsize=14)\n",
    "cbar.ax.tick_params(axis='y', which='major', labelsize=14, width=1.5, length=6)\n",
    "cbar.ax.tick_params(axis='y', which='minor', labelsize=12, width=1.2, length=4)\n",
    "tick_vals = np.array([0,5,15,25,35])\n",
    "cbar.set_ticks(tick_vals)\n",
    "cbar.ax.set_yticklabels([f\"{val:.1f}\" for val in tick_vals])\n",
    "plt.show()\n",
    "#folder = '/Users/saramahdavi/Documents/pAct/mutual repression'\n",
    "#plt.savefig(folder+'/dynamics_mutual_timescale_symetric.pdf')"
   ]
  },
  {
   "cell_type": "code",
   "execution_count": 39,
   "metadata": {
    "scrolled": true
   },
   "outputs": [
    {
     "data": {
      "image/png": "[encoded data removed]",
      "text/plain": [
       "<Figure size 200x200 with 1 Axes>"
      ]
     },
     "metadata": {},
     "output_type": "display_data"
    }
   ],
   "source": [
    "fig, ax = plt.subplots(1, 1, figsize=(2,2))\n",
    "thresh0=0.9\n",
    "init = [2,1]\n",
    "R1t,R2t,time = mut_rep_R1_R2_t_profile(init, p1=pAct(1e-6/Ka), p2=pAct(1e-6/Ka), w1=fixed_w, w2=fixed_w, r=fixed_r, K=fixed_K, tmax =30)\n",
    "ax.plot(time,R1t,'k')\n",
    "ax.plot(time,R2t,'k')\n",
    "ax.set_yscale('log')\n",
    "ax.plot([0],[init[0]], color = 'k', marker='o', markersize=4)\n",
    "ax.plot([0],[init[1]], color = 'k', marker='o', markersize=4)\n",
    "ax.axhline(y=R1_fixed_points[0], color='y', linestyle='--', linewidth=1)\n",
    "ax.axhline(y=R2_fixed_points[0], color='b', linestyle='--', linewidth=1)\n",
    "\n",
    "ax.axhline(y=R1_fixed_points[0]*(1+(1-thresh0)), color='lightblue', linestyle='--', linewidth=1)\n",
    "\n",
    "ax.axhline(y=R2_fixed_points[0]*(thresh0), color='lightblue', linestyle='--', linewidth=1)\n",
    "\n",
    "ax.set_xlabel(r'$\\bar{t}$', fontsize=12)\n",
    "ax.set_ylabel(r'$\\bar{R}(t)$', fontsize=12)\n",
    "ax.tick_params(axis='both', which='major', labelsize=12, width=0.7, length=3)\n",
    "ax.tick_params(axis='both', which='minor', labelsize=12, width=0.6, length=2)\n",
    "ax.set_title(r'$\\bar{R}_1=2, \\bar{R}_2=1$')\n",
    "plt.show()"
   ]
  },
  {
   "cell_type": "code",
   "execution_count": 146,
   "metadata": {},
   "outputs": [],
   "source": [
    "#plot_grid_timescales(size_of_grid=5, thresh=0.9, tmax=50, p1=pAct(1e-3), p2=pAct(1e-2))"
   ]
  },
  {
   "cell_type": "code",
   "execution_count": 41,
   "metadata": {
    "id": "rUplxokfN1wZ"
   },
   "outputs": [],
   "source": [
    "#p1_K07, p2_K07 = pAct(1e-7/Ka), pAct(1e-6/Ka)\n",
    "pAct1,pAct2 = pAct(1e-3), pAct(1e-2)\n",
    "R1_fixed_points,R2_fixed_points= steady_state_AB(fixed_r, fixed_K, fixed_w, fixed_w, pAct1, pAct2)\n",
    "steady_state_1_or_2=separatrix_heat_map(R1_fixed_points, R2_fixed_points,n=100, p1=pAct1, p2=pAct2, w1=fixed_w, w2=fixed_w, r=fixed_r, K=fixed_K)"
   ]
  },
  {
   "cell_type": "code",
   "execution_count": 43,
   "metadata": {
    "colab": {
     "background_save": true
    },
    "id": "vGIM7joS3VT3"
   },
   "outputs": [],
   "source": [
    "tau_R1_R2_list_2d=time_heat_map(R1_fixed_points, R2_fixed_points, p1=pAct1, p2=pAct2, w1=fixed_w, w2=fixed_w, r=fixed_r, K=fixed_K, tmax=100,thresh=0.95)"
   ]
  },
  {
   "cell_type": "code",
   "execution_count": 45,
   "metadata": {},
   "outputs": [],
   "source": [
    "sep_curve=separatrix_ode(np.transpose(steady_state_1_or_2), p1=pAct(1e-3), p2=pAct(1e-2))"
   ]
  },
  {
   "cell_type": "code",
   "execution_count": 47,
   "metadata": {
    "colab": {
     "background_save": true
    },
    "id": "qfSAvBgAq36z",
    "outputId": "29210652-74ea-4986-c653-ca84303bc3e8",
    "scrolled": true
   },
   "outputs": [
    {
     "ename": "NameError",
     "evalue": "name 'plot_heat_map_tau_and_separatrix' is not defined",
     "output_type": "error",
     "traceback": [
      "\u001b[1;31m---------------------------------------------------------------------------\u001b[0m",
      "\u001b[1;31mNameError\u001b[0m                                 Traceback (most recent call last)",
      "Cell \u001b[1;32mIn[47], line 1\u001b[0m\n\u001b[1;32m----> 1\u001b[0m plot_heat_map_tau_and_separatrix(np\u001b[38;5;241m.\u001b[39mtranspose(tau_R1_R2_list_2d), np\u001b[38;5;241m.\u001b[39mtranspose(steady_state_1_or_2),sep_curve, R1_fixed_points, R2_fixed_points)\n",
      "\u001b[1;31mNameError\u001b[0m: name 'plot_heat_map_tau_and_separatrix' is not defined"
     ]
    }
   ],
   "source": [
    "plot_heat_map_tau_and_separatrix(np.transpose(tau_R1_R2_list_2d), np.transpose(steady_state_1_or_2),sep_curve, R1_fixed_points, R2_fixed_points)\n",
    "#plt.savefig(folder+'/dynamics_mutual_repression_K=1_gamma=1_omega1=omega2=7pt5_r=2_pactAneqpactB.pdf')"
   ]
  },
  {
   "cell_type": "markdown",
   "metadata": {
    "id": "EZGqUxeMormx"
   },
   "source": [
    "## $K=1$, $\\omega_1=50$ $\\omega_2=7.5$, $p_{act}^A\\neq p_{act}^B$.\n"
   ]
  },
  {
   "cell_type": "code",
   "execution_count": 288,
   "metadata": {},
   "outputs": [],
   "source": [
    "omega1=50\n",
    "omega2=fixed_w\n",
    "pAct1,pAct2=pAct(5*1e-6/Ka), pAct(1e-6/Ka)"
   ]
  },
  {
   "cell_type": "code",
   "execution_count": 390,
   "metadata": {},
   "outputs": [],
   "source": [
    "R1_fixed_points,R2_fixed_points = steady_state_AB(fixed_r, fixed_K, omega1,omega2, pAct1, pAct2)"
   ]
  },
  {
   "cell_type": "code",
   "execution_count": 292,
   "metadata": {},
   "outputs": [],
   "source": [
    "tau_R1_R2_list_2d_asym = time_heat_map(R1_fixed_points,R2_fixed_points,  p1=pAct1, p2=pAct2, w1=omega1, w2=omega2, r=fixed_r, K=1, tmax=100,thresh=0.95,n=200)"
   ]
  },
  {
   "cell_type": "code",
   "execution_count": 293,
   "metadata": {},
   "outputs": [],
   "source": [
    "steady_state_1_or_2_a = separatrix_heat_map(R1_fixed_points,R2_fixed_points,n=100, p1=pAct1, p2=pAct2, w1=omega1, w2=omega2, r=fixed_r, K=1)\n",
    "ss_cat_a=np.transpose(steady_state_1_or_2_a)\n",
    "sep_curve_a = separatrix_ode(ss_cat_a, p1=pAct1, p2=pAct2, w1=omega1, w2=omega2)"
   ]
  },
  {
   "cell_type": "code",
   "execution_count": 394,
   "metadata": {},
   "outputs": [
    {
     "name": "stdout",
     "output_type": "stream",
     "text": [
      "0.0 38.519259629814904\n"
     ]
    },
    {
     "data": {
      "image/png": "[encoded data removed]",
      "text/plain": [
       "<Figure size 400x400 with 2 Axes>"
      ]
     },
     "metadata": {},
     "output_type": "display_data"
    }
   ],
   "source": [
    "log10R0min,log10R0max=-2,1\n",
    "R0=np.logspace(log10R0min,log10R0max,200)\n",
    "R01,R02 = np.meshgrid(R0,R0)\n",
    "init_list = [[0.05,0.1],[2,1]]\n",
    "fig, ax = plt.subplots(1, 1, figsize=(4,4))\n",
    "c1 = ax.pcolormesh(R01,R02,np.transpose(tau_R1_R2_list_2d_asym), cmap='Grays')\n",
    "\n",
    "for iss in range(len(R1_fixed_points)):\n",
    "    rss1=R1_fixed_points[iss]\n",
    "    rss2=R2_fixed_points[iss]\n",
    "    stable = is_stable_mutual_repression(rss1, rss2)\n",
    "    if stable:\n",
    "      ax.plot([rss1],[rss2], color = color_list[iss], marker='o', markersize=7)\n",
    "    else:\n",
    "      ax.plot([rss1],[rss2], color = color_list[iss], marker='o', markersize=7, markerfacecolor='white', markeredgewidth=1.5)\n",
    "cbar = fig.colorbar(c1, ax=ax, label=r'$\\tau$', shrink=1, aspect=25)\n",
    "cbar.ax.set_ylabel(r'$\\tau$', fontsize=14)\n",
    "cbar.ax.tick_params(axis='y', which='major', labelsize=14, width=1.5, length=6)\n",
    "cbar.ax.tick_params(axis='y', which='minor', labelsize=12, width=1.2, length=4)\n",
    "tick_vals = np.array([0,5,15,25,35])\n",
    "cbar.set_ticks(tick_vals)\n",
    "cbar.ax.set_yticklabels([f\"{val:.1f}\" for val in tick_vals])\n",
    "ax.set_xlim(10**log10R0min, 10**log10R0max)\n",
    "ax.set_ylim(10**log10R0min, 10**log10R0max)\n",
    "ax.set_aspect('equal')\n",
    "ax.set_xscale('log')\n",
    "ax.set_yscale('log')\n",
    "ax.set_xlabel(r'$R^0_{1}$', fontsize=16)\n",
    "ax.set_ylabel(r'$R^0_{2}$', fontsize=16)\n",
    "ax.tick_params(axis='both', which='major', labelsize=14, width=1.5, length=6)\n",
    "ax.tick_params(axis='both', which='minor', labelsize=12, width=1.2, length=4)\n",
    "print(np.min(tau_R1_R2_list_2d_asym),np.max(tau_R1_R2_list_2d_asym))\n",
    "folder = '/Users/saramahdavi/Documents/pAct/mutual repression'\n",
    "plt.savefig(folder+'/dynamics_mutual_timescale_asymetric.pdf')"
   ]
  },
  {
   "cell_type": "code",
   "execution_count": 383,
   "metadata": {},
   "outputs": [],
   "source": [
    "omega2=fixed_w\n",
    "omega1=50\n",
    "pAct2,pAct1=pAct(5*1e-6/Ka), pAct(1e-6/Ka)"
   ]
  },
  {
   "cell_type": "code",
   "execution_count": 217,
   "metadata": {},
   "outputs": [],
   "source": [
    "#plot_grid_timescales(size_of_grid=5, thresh=0.9, tmax=50, p1=pAct1, p2=pAct2, w1=omega1, w2=omega2, logR0_min=np.log10(0.07),logR0_max=np.log10(2) )"
   ]
  },
  {
   "cell_type": "code",
   "execution_count": 385,
   "metadata": {
    "scrolled": true
   },
   "outputs": [
    {
     "data": {
      "text/plain": [
       "(array([0.05196854, 0.76612552, 1.67014662]),\n",
       " array([1.79998678, 0.34163391, 0.09776539]))"
      ]
     },
     "execution_count": 385,
     "metadata": {},
     "output_type": "execute_result"
    }
   ],
   "source": [
    "R1_fixed_points,R2_fixed_points = steady_state_AB(fixed_r, fixed_K, omega1,omega2, pAct1,pAct2)\n",
    "R1_fixed_points,R2_fixed_points"
   ]
  },
  {
   "cell_type": "code",
   "execution_count": 387,
   "metadata": {},
   "outputs": [],
   "source": [
    "tau_R1_R2_list_2d=time_heat_map(R1_fixed_points,R2_fixed_points,  p1=pAct1, p2=pAct2, w1=omega1, w2=omega2, r=fixed_r, K=1, tmax=100,thresh=0.9)\n",
    "steady_state_1_or_2=separatrix_heat_map(R1_fixed_points,R2_fixed_points,n=100, p1=pAct1, p2=pAct2, w1=omega1, w2=omega2, r=fixed_r, K=1)"
   ]
  },
  {
   "cell_type": "code",
   "execution_count": 397,
   "metadata": {},
   "outputs": [
    {
     "name": "stdout",
     "output_type": "stream",
     "text": [
      "0.1810672911434034\n"
     ]
    }
   ],
   "source": [
    "sep_curve = separatrix_ode(np.transpose(steady_state_1_or_2), p1=pAct1, p2=pAct2, w1=omega1, w2=omega2)"
   ]
  },
  {
   "cell_type": "code",
   "execution_count": 401,
   "metadata": {},
   "outputs": [
    {
     "data": {
      "image/png": "[encoded data removed]",
      "text/plain": [
       "<Figure size 1200x600 with 4 Axes>"
      ]
     },
     "metadata": {},
     "output_type": "display_data"
    }
   ],
   "source": [
    "plot_heat_map_tau_and_separatrix(np.transpose(tau_R1_R2_list_2d), np.transpose(steady_state_1_or_2), sep_curve, R1_fixed_points,R2_fixed_points)\n",
    "plt.savefig(folder+'/dynamics_mutual_repression_K=1_gamma=1_omega1=50_omega2=7pt5_r=2_pactAneqpactB.pdf')"
   ]
  },
  {
   "cell_type": "code",
   "execution_count": null,
   "metadata": {
    "id": "SVS1N148Xy8r"
   },
   "outputs": [],
   "source": [
    "n=100\n",
    "\n",
    "R0_list=np.logspace(-2 , 1, n)\n",
    "\n",
    "tau_R1_cf_list = np.zeros(n)\n",
    "tau_R1_63_list = np.zeros(n)\n",
    "\n",
    "tau_R2_cf_list = np.zeros(n)\n",
    "tau_R2_63_list = np.zeros(n)\n",
    "\n",
    "for i1 in range(n):\n",
    "  R01=R0_list[i1]\n",
    "  R0=[R01,R01]\n",
    "  R1_of_t, R2_of_t, time = mut_rep_R1_R2_t_profile(R0)\n",
    "\n",
    "  #tau_R1_cf = time_scale(R1_fixed_points,R1_of_t,time,type_of_approach='curve_fit')\n",
    "  tau_R1_63 = time_scale(R1_fixed_points,R1_of_t,time,type_of_approach='63%')\n",
    "  #tau_R1_cf_list[i1] = tau_R1_cf\n",
    "  tau_R1_63_list[i1] = tau_R1_63\n",
    "\n",
    "  #tau_R2_cf = time_scale(R2_fixed_points,R2_of_t,time,type_of_approach='curve_fit')\n",
    "  tau_R2_63 = time_scale(R2_fixed_points,R2_of_t,time,type_of_approach='63%')\n",
    "  #tau_R2_cf_list[i1] = tau_R2_cf\n",
    "  tau_R2_63_list[i1] = tau_R2_63\n",
    "\n",
    "plt.figure()\n",
    "\n",
    "\n",
    "#plt.plot(R0_list,tau_R1_cf_list, 'k', label = 'curve fit')\n",
    "plt.plot(R0_list,tau_R1_63_list, 'k.', label = '63%')\n",
    "plt.xlabel('initial concentration of gene R1')\n",
    "plt.ylabel('timescale to relax to steady state for R1')\n",
    "plt.xscale('log')\n",
    "plt.yscale('log')\n",
    "\n",
    "\n",
    "\n",
    "\n",
    "\n",
    "for iss in range(len(R1_fixed_points)):\n",
    "  rss1=R1_fixed_points[iss]\n",
    "  rss2=R2_fixed_points[iss]\n",
    "  stable = is_stable_mutual_repression(rss1, rss2)\n",
    "  if stable:\n",
    "    ls = '-'\n",
    "  else:\n",
    "    ls = '--'\n",
    "  plt.axvline(rss1, color = color_list[iss], linestyle=ls)\n",
    "\n",
    "plt.axhline(1,color='gray', label=r'$\\gamma$')\n",
    "\n",
    "plt.legend()\n",
    "plt.show()\n",
    "\n",
    "plt.figure()\n",
    "\n",
    "#plt.plot(R0_list,tau_R2_cf_list, 'k', label = 'curve fit')\n",
    "plt.plot(R0_list,tau_R2_63_list, 'k.', label = '63%')\n",
    "plt.xlabel('initial concentration of gene R2')\n",
    "plt.ylabel('timescale to relax to steady state for R2')\n",
    "plt.xscale('log')\n",
    "plt.yscale('log')\n",
    "\n",
    "for iss in range(len(R1_fixed_points)):\n",
    "  rss1=R1_fixed_points[iss]\n",
    "  rss2=R2_fixed_points[iss]\n",
    "  stable = is_stable_mutual_repression(rss1, rss2)\n",
    "  if stable:\n",
    "    ls = '-'\n",
    "  else:\n",
    "    ls = '--'\n",
    "  plt.axvline(rss2, color = color_list[iss], linestyle=ls)\n",
    "\n",
    "plt.axhline(1,color='gray', label=r'$\\gamma$')\n",
    "\n",
    "plt.legend()"
   ]
  },
  {
   "cell_type": "code",
   "execution_count": null,
   "metadata": {
    "id": "_D7vvHgYsVzU"
   },
   "outputs": [],
   "source": [
    "R0_list = np.logspace(0, 1, 10)\n",
    "color_list = ['r', 'orange', 'blue', 'pink']\n",
    "R0_list50 = np.logspace(-2, 1, 50)\n",
    "R100,R200=np.meshgrid(R0_list50,R0_list50)\n",
    "\n",
    "\n",
    "#ax.contour(R100,R200,steady_state_1_or_2)\n",
    "for R01 in R0_list:\n",
    "    fig, ax = plt.subplots(1,1, sharey=True, sharex=True, figsize=(4, 4))\n",
    "    R0=[R01,R01]\n",
    "    R1_of_t, R2_of_t, time = mut_rep_R1_R2_t_profile(R0)\n",
    "    ax.plot(R1_of_t, R2_of_t, 'k.', label=f'R0={R0}')\n",
    "    ax.scatter([R1_of_t[0]], [R2_of_t[0]], color='k')\n",
    "    for iss in range(len(R1_fixed_points)):\n",
    "      rss1=R1_fixed_points[iss]\n",
    "      rss2=R2_fixed_points[iss]\n",
    "      stable = is_stable_mutual_repression(rss1, rss2)\n",
    "      if stable:\n",
    "        m = 'o'\n",
    "      else:\n",
    "        m = '+'\n",
    "      ax.plot([rss1],[rss2], color = color_list[iss], marker=m)\n",
    "\n",
    "    ax.set_xscale('log')\n",
    "    ax.set_yscale('log')\n",
    "    ax.set_aspect('equal')\n",
    "\n",
    "\n",
    "\n",
    "\n",
    "    ax.set_xlabel('concentration of gene R1')\n",
    "    ax.set_ylabel('concentration of gene R2')\n",
    "\n",
    "plt.show()"
   ]
  },
  {
   "cell_type": "code",
   "execution_count": null,
   "metadata": {
    "id": "YUdehsqAXJwe"
   },
   "outputs": [],
   "source": [
    "R0_list = np.logspace(-2, 1, 5)\n",
    "color_list = ['r', 'orange', 'blue', 'pink']\n",
    "R0_list50 = np.logspace(-2, 1, 50)\n",
    "R100,R200=np.meshgrid(R0_list50,R0_list50)\n",
    "\n",
    "fig, ax = plt.subplots(1,1, sharey=True, sharex=True, figsize=(4, 4))\n",
    "#ax.contour(R100,R200,steady_state_1_or_2)\n",
    "for R01 in R0_list:\n",
    "  for R02 in R0_list:\n",
    "    fig, ax = plt.subplots(1,1, sharey=True, sharex=True, figsize=(4, 4))\n",
    "    R0=[R01,R02]\n",
    "    R1_of_t, R2_of_t, time = mut_rep_R1_R2_t_profile(R0)\n",
    "    ax.plot(R1_of_t, R2_of_t, 'k', label=f'R0={R0}')\n",
    "    ax.scatter([R1_of_t[0]], [R2_of_t[0]], color='k')\n",
    "    for iss in range(len(R1_fixed_points)):\n",
    "      rss1=R1_fixed_points[iss]\n",
    "      rss2=R2_fixed_points[iss]\n",
    "      stable = is_stable_mutual_repression(rss1, rss2)\n",
    "      if stable:\n",
    "        m = 'o'\n",
    "      else:\n",
    "        m = '+'\n",
    "      ax.plot([rss1],[rss2], color = color_list[iss], marker=m)\n",
    "\n",
    "    ax.set_xscale('log')\n",
    "    ax.set_yscale('log')\n",
    "    ax.set_aspect('equal')\n",
    "\n",
    "\n",
    "\n",
    "\n",
    "    ax.set_xlabel('concentration of gene R1')\n",
    "    ax.set_ylabel('concentration of gene R2')\n",
    "\n",
    "plt.show()"
   ]
  },
  {
   "cell_type": "code",
   "execution_count": null,
   "metadata": {
    "id": "jTFGjWIhQuu6"
   },
   "outputs": [],
   "source": [
    "R0_plot_list = [[0.4,0.01],[0.01,0.4],[1,0.1],[0.1,1],[0.3,0.3],[1,0.3],[0.3,1],[1,1]][:5]\n",
    "R0_plot_list = [[0.3,0.3],[0.5,0.5],[1,1],[3,3],[10,10]]\n",
    "color_list = ['r', 'orange', 'blue', 'pink']\n",
    "\n",
    "fig, ax = plt.subplots(1,5, sharey=True, sharex=True, figsize=(20, 4))\n",
    "i=0\n",
    "for R0 in R0_plot_list:\n",
    "    R1_of_t, R2_of_t, time = mut_rep_R1_R2_t_profile(R0)\n",
    "    ax[i].plot(R1_of_t, R2_of_t, 'k.', label=f'R0={R0}')\n",
    "\n",
    "\n",
    "    for iss in range(len(R1_fixed_points)):\n",
    "      rss1=R1_fixed_points[iss]\n",
    "      rss2=R2_fixed_points[iss]\n",
    "      stable = is_stable_mutual_repression(rss1, rss2)\n",
    "      if stable:\n",
    "        m = 'o'\n",
    "      else:\n",
    "        m = '+'\n",
    "      ax[i].plot([rss1],[rss2], color = color_list[iss], marker=m)\n",
    "\n",
    "    ax[i].set_xscale('log')\n",
    "    ax[i].set_yscale('log')\n",
    "    ax[i].set_aspect('equal')\n",
    "\n",
    "\n",
    "    ax[i].legend()\n",
    "    i+=1\n",
    "\n",
    "ax[0].set_xlabel('concentration of gene R1')\n",
    "ax[0].set_ylabel('concentration of gene R2')\n",
    "\n",
    "plt.show()"
   ]
  },
  {
   "cell_type": "code",
   "execution_count": null,
   "metadata": {
    "id": "GO1rV9XGF1RD"
   },
   "outputs": [],
   "source": [
    "R0_plot_list = [0.01, 0.1, 0.7, 1.4, 10]\n",
    "color_list = ['r', 'orange', 'blue', 'pink']\n",
    "\n",
    "fig, ax = plt.subplots(1,5, sharey=True, sharex=True, figsize=(20, 4))\n",
    "i=0\n",
    "for R0 in R0_plot_list:\n",
    "    R1_of_t, R2_of_t, time = mut_rep_R1_R2_t_profile([R0, R0])\n",
    "    ax[i].plot(R1_of_t, R2_of_t, 'k', label=f'R0={R0}')\n",
    "\n",
    "\n",
    "    for iss in range(len(R1_fixed_points)):\n",
    "      rss1=R1_fixed_points[iss]\n",
    "      rss2=R2_fixed_points[iss]\n",
    "      stable = is_stable_mutual_repression(rss1, rss2)\n",
    "      if stable:\n",
    "        m = 'o'\n",
    "      else:\n",
    "        m = '+'\n",
    "      ax[i].plot([rss1],[rss2], color = color_list[iss], marker=m)\n",
    "\n",
    "    ax[i].set_xscale('log')\n",
    "    ax[i].set_yscale('log')\n",
    "\n",
    "\n",
    "    ax[i].legend()\n",
    "    i+=1\n",
    "\n",
    "ax[0].set_xlabel('concentration of gene R1')\n",
    "ax[0].set_ylabel('concentration of gene R2')\n",
    "\n",
    "plt.show()"
   ]
  },
  {
   "cell_type": "code",
   "execution_count": null,
   "metadata": {
    "id": "UwcmId_oEdAe"
   },
   "outputs": [],
   "source": [
    "R0_plot_list = [[1,0.1],[0.1,1]]\n",
    "color_list = ['r', 'orange', 'blue', 'pink']\n",
    "\n",
    "color_list2 = ['k', 'pink', 'gray', 'green']\n",
    "fig1, ax1 = plt.subplots()\n",
    "fig2, ax2 = plt.subplots()\n",
    "\n",
    "i=0\n",
    "for R0 in R0_plot_list:\n",
    "    R1_of_t, R2_of_t, time = mut_rep_R1_R2_t_profile(R0)\n",
    "    ax1.plot(time, R1_of_t, color_list2[i], label=f'R0={R0}')\n",
    "    ax2.plot(time, R2_of_t, color_list2[i], label=f'R0={R0}')\n",
    "    i+=1\n",
    "\n",
    "for iss in range(len(R1_fixed_points)):\n",
    "  rss1=R1_fixed_points[iss]\n",
    "  rss2=R2_fixed_points[iss]\n",
    "  stable = is_stable_mutual_repression(rss1, rss2)\n",
    "  if stable:\n",
    "    ls = '-'\n",
    "  else:\n",
    "    ls = '--'\n",
    "  ax1.axhline(rss1, color = color_list[iss], linestyle=ls)\n",
    "  ax2.axhline(rss2, color = color_list[iss], linestyle=ls)\n",
    "\n",
    "ax1.set_xlabel('time')\n",
    "ax1.set_ylabel('concentration of gene R1')\n",
    "ax2.set_xlabel('time')\n",
    "ax2.set_ylabel('concentration of gene R2')\n",
    "\n",
    "ax1.set_xscale('log')\n",
    "ax1.set_yscale('log')\n",
    "ax2.set_xscale('log')\n",
    "ax2.set_yscale('log')\n",
    "\n",
    "ax1.legend()\n",
    "ax2.legend()\n",
    "\n",
    "plt.show()\n"
   ]
  },
  {
   "cell_type": "code",
   "execution_count": null,
   "metadata": {
    "id": "jsm0bge8P-73"
   },
   "outputs": [],
   "source": []
  }
 ],
 "metadata": {
  "colab": {
   "provenance": []
  },
  "kernelspec": {
   "display_name": "Python [conda env:base] *",
   "language": "python",
   "name": "conda-base-py"
  },
  "language_info": {
   "codemirror_mode": {
    "name": "ipython",
    "version": 3
   },
   "file_extension": ".py",
   "mimetype": "text/x-python",
   "name": "python",
   "nbconvert_exporter": "python",
   "pygments_lexer": "ipython3",
   "version": "3.12.7"
  }
 },
 "nbformat": 4,
 "nbformat_minor": 4
}
